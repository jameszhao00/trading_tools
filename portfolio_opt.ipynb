{
 "cells": [
  {
   "cell_type": "code",
   "execution_count": 1,
   "metadata": {},
   "outputs": [],
   "source": [
    "from pypfopt import risk_models\n",
    "from pypfopt import plotting\n",
    "from pypfopt import expected_returns\n",
    "from pypfopt import EfficientFrontier\n",
    "from pypfopt import CLA, plotting\n",
    "from pypfopt.black_litterman import BlackLittermanModel\n",
    "\n",
    "import pypfopt\n",
    "\n",
    "import yfinance as yf\n",
    "\n",
    "from datetime import datetime\n",
    "import matplotlib.pylab as plt\n",
    "import pandas as pd"
   ]
  },
  {
   "cell_type": "code",
   "execution_count": 3,
   "metadata": {},
   "outputs": [
    {
     "name": "stdout",
     "output_type": "stream",
     "text": [
      "[*********************100%***********************]  22 of 22 completed\n"
     ]
    }
   ],
   "source": [
    "start_date = \"2020-1-30\"\n",
    "tickers = [\"PBW\",\"DDOG\",\"TWLO\",\"FSLY\",\"PTON\",\"FIVN\",\"CRWD\",\"U\",\"NVDA\",\"ZM\",\n",
    "           \"SE\",\"TTD\",\"ROKU\",\"NET\",\"ZS\",\"OKTA\",\"DOCU\",\"SQ\",\"NIO\",\"FRPT\",\"TRUP\",\"CHWY\"]\n",
    "ohlc = yf.download(tickers, period=\"max\")\n",
    "prices = ohlc[\"Adj Close\"]\n",
    "prices.tail()\n",
    "prices = prices[start_date:]\n"
   ]
  },
  {
   "cell_type": "code",
   "execution_count": 460,
   "metadata": {},
   "outputs": [
    {
     "name": "stdout",
     "output_type": "stream",
     "text": [
      "[*********************100%***********************]  1 of 1 completed\n"
     ]
    }
   ],
   "source": [
    "market_prices = yf.download(\"SPY\", period=\"max\")[\"Adj Close\"]\n",
    "market_prices = prices[start_date:]"
   ]
  },
  {
   "cell_type": "code",
   "execution_count": 461,
   "metadata": {},
   "outputs": [],
   "source": [
    "from pypfopt import black_litterman, risk_models\n",
    "from pypfopt import BlackLittermanModel, plotting\n"
   ]
  },
  {
   "cell_type": "code",
   "execution_count": 462,
   "metadata": {},
   "outputs": [
    {
     "data": {
      "text/plain": [
       "AAPL    2.353811\n",
       "AMZN    4.867068\n",
       "DDOG    2.518841\n",
       "JKS     1.587624\n",
       "MSFT    1.575167\n",
       "NIO     2.620863\n",
       "PTON    3.136417\n",
       "REGI    1.328359\n",
       "RUN     2.810938\n",
       "SE      4.740055\n",
       "SPWR    1.474782\n",
       "SQ      2.188254\n",
       "TSLA    2.221632\n",
       "TWLO    2.154518\n",
       "VSLR    2.295776\n",
       "ZM      3.718491\n",
       "dtype: float64"
      ]
     },
     "execution_count": 462,
     "metadata": {},
     "output_type": "execute_result"
    }
   ],
   "source": [
    "S = risk_models.CovarianceShrinkage(prices).ledoit_wolf()\n",
    "delta = black_litterman.market_implied_risk_aversion(market_prices)\n",
    "delta"
   ]
  },
  {
   "cell_type": "code",
   "execution_count": 463,
   "metadata": {},
   "outputs": [
    {
     "name": "stdout",
     "output_type": "stream",
     "text": [
      "processing %s SQ\n",
      "processing %s DDOG\n",
      "processing %s TWLO\n",
      "processing %s SE\n",
      "processing %s ZM\n",
      "processing %s PTON\n",
      "processing %s AMZN\n",
      "processing %s MSFT\n",
      "processing %s AAPL\n",
      "processing %s VSLR\n",
      "processing %s TSLA\n",
      "processing %s REGI\n",
      "processing %s RUN\n",
      "processing %s SPWR\n",
      "processing %s NIO\n",
      "processing %s JKS\n"
     ]
    },
    {
     "data": {
      "text/plain": [
       "{'SQ': 71377600512,\n",
       " 'DDOG': 28155555840,\n",
       " 'TWLO': 35179474944,\n",
       " 'SE': 78047838208,\n",
       " 'ZM': 138840113152,\n",
       " 'PTON': 27916224512,\n",
       " 'AMZN': 1589717106688,\n",
       " 'MSFT': 1583909175296,\n",
       " 'AAPL': 1962342481920,\n",
       " 'VSLR': 4936896512,\n",
       " 'TSLA': 393931587584,\n",
       " 'REGI': 1879315840,\n",
       " 'RUN': 9113527296,\n",
       " 'SPWR': 1974698368,\n",
       " 'NIO': 23101595648,\n",
       " 'JKS': 1671339904}"
      ]
     },
     "execution_count": 463,
     "metadata": {},
     "output_type": "execute_result"
    }
   ],
   "source": [
    "mcaps = {}\n",
    "for t in tickers:\n",
    "    print(\"processing %s\", t)\n",
    "    stock = yf.Ticker(t)\n",
    "    mcaps[t] = stock.info[\"marketCap\"]\n",
    "mcaps"
   ]
  },
  {
   "cell_type": "code",
   "execution_count": 464,
   "metadata": {},
   "outputs": [
    {
     "data": {
      "text/plain": [
       "AAPL    0.547308\n",
       "AMZN    0.825491\n",
       "DDOG    0.390485\n",
       "JKS     0.339712\n",
       "MSFT    0.357366\n",
       "NIO     0.456890\n",
       "PTON    0.330634\n",
       "REGI    0.311247\n",
       "RUN     0.595213\n",
       "SE      0.924591\n",
       "SPWR    0.338504\n",
       "SQ      0.545818\n",
       "TSLA    0.651759\n",
       "TWLO    0.374830\n",
       "VSLR    0.373245\n",
       "ZM      0.272773\n",
       "dtype: float64"
      ]
     },
     "execution_count": 464,
     "metadata": {},
     "output_type": "execute_result"
    }
   ],
   "source": [
    "market_prior = black_litterman.market_implied_prior_returns(mcaps, delta, S)\n",
    "market_prior"
   ]
  },
  {
   "cell_type": "code",
   "execution_count": 466,
   "metadata": {},
   "outputs": [
    {
     "name": "stderr",
     "output_type": "stream",
     "text": [
      "<ipython-input-466-eea445e07c2e>:12: DeprecationWarning: The default dtype for empty Series will be 'object' instead of 'float64' in a future version. Specify a dtype explicitly to silence this warning.\n",
      "  rets_df = pd.DataFrame([market_prior, ret_bl, pd.Series(viewdict)],\n"
     ]
    },
    {
     "data": {
      "image/png": "[encoded data removed]",
      "text/plain": [
       "<Figure size 864x576 with 1 Axes>"
      ]
     },
     "metadata": {
      "needs_background": "light"
     },
     "output_type": "display_data"
    }
   ],
   "source": [
    "import numpy as np\n",
    "\n",
    "viewdict = {}\n",
    "\n",
    "omega = np.diag(variances)\n",
    "confidences = [\n",
    "]\n",
    "bl = BlackLittermanModel(S, pi=\"market\", market_caps=mcaps, risk_averison=\"delta\",\n",
    "                        absolute_views=viewdict, omega=\"idzorek\",view_confidences=confidences)#\n",
    "\n",
    "ret_bl = bl.bl_returns()\n",
    "rets_df = pd.DataFrame([market_prior, ret_bl, pd.Series(viewdict)], \n",
    "             index=[\"Prior\", \"Posterior\", \"Views\"]).T\n",
    "rets_df.plot.bar(figsize=(12,8));\n",
    "S_bl = bl.bl_cov()"
   ]
  },
  {
   "cell_type": "code",
   "execution_count": 467,
   "metadata": {},
   "outputs": [
    {
     "name": "stdout",
     "output_type": "stream",
     "text": [
      "Expected annual return: 20.8%\n",
      "Annual volatility: 43.7%\n",
      "Sharpe Ratio: 0.43\n"
     ]
    },
    {
     "data": {
      "text/plain": [
       "OrderedDict([('AAPL', 0.09842),\n",
       "             ('AMZN', 0.13477),\n",
       "             ('DDOG', 0.08178),\n",
       "             ('JKS', 0.03812),\n",
       "             ('MSFT', 0.09796),\n",
       "             ('NIO', 0.04679),\n",
       "             ('PTON', 0.10475),\n",
       "             ('REGI', 0.0548),\n",
       "             ('RUN', 0.02374),\n",
       "             ('SE', 0.07338),\n",
       "             ('SPWR', 0.0136),\n",
       "             ('SQ', 0.01372),\n",
       "             ('TSLA', 0.01004),\n",
       "             ('TWLO', 0.0622),\n",
       "             ('VSLR', 0.0426),\n",
       "             ('ZM', 0.10331)])"
      ]
     },
     "execution_count": 467,
     "metadata": {},
     "output_type": "execute_result"
    }
   ],
   "source": [
    "from pypfopt import EfficientFrontier, objective_functions\n",
    "\n",
    "ef = EfficientFrontier(ret_bl, S_bl)\n",
    "ef.add_objective(objective_functions.L2_reg)\n",
    "ef.min_volatility()\n",
    "weights = ef.clean_weights()\n",
    "ef.portfolio_performance(verbose=True)\n",
    "weights"
   ]
  },
  {
   "cell_type": "code",
   "execution_count": 468,
   "metadata": {},
   "outputs": [
    {
     "name": "stdout",
     "output_type": "stream",
     "text": [
      "Expected annual return: 32.2%\n",
      "Annual volatility: 58.4%\n",
      "Sharpe Ratio: 0.52\n"
     ]
    },
    {
     "name": "stderr",
     "output_type": "stream",
     "text": [
      "/Users/jameszhao/.local/share/virtualenvs/trading_tools-DCkkE-wc/lib/python3.8/site-packages/pypfopt/efficient_frontier.py:195: UserWarning: max_sharpe transforms the optimisation problem so additional objectives may not work as expected.\n",
      "  warnings.warn(\n"
     ]
    },
    {
     "data": {
      "text/plain": [
       "OrderedDict([('AAPL', 0.0435),\n",
       "             ('AMZN', 0.01344),\n",
       "             ('DDOG', 0.0276),\n",
       "             ('JKS', 0.05057),\n",
       "             ('MSFT', 0.04293),\n",
       "             ('NIO', 0.02917),\n",
       "             ('PTON', 0.11454),\n",
       "             ('REGI', 0.16558),\n",
       "             ('RUN', 0.16557),\n",
       "             ('SE', 0.0342),\n",
       "             ('SPWR', 0.09681),\n",
       "             ('SQ', 0.06138),\n",
       "             ('TSLA', 0.02836),\n",
       "             ('TWLO', 0.03385),\n",
       "             ('VSLR', 0.0906),\n",
       "             ('ZM', 0.00191)])"
      ]
     },
     "execution_count": 468,
     "metadata": {},
     "output_type": "execute_result"
    }
   ],
   "source": [
    "\n",
    "ef = EfficientFrontier(ret_bl, S_bl)\n",
    "ef.add_objective(objective_functions.L2_reg)\n",
    "ef.max_sharpe()\n",
    "weights = ef.clean_weights()\n",
    "ef.portfolio_performance(verbose=True)\n",
    "weights"
   ]
  },
  {
   "cell_type": "code",
   "execution_count": null,
   "metadata": {
    "pycharm": {
     "name": "#%%\n"
    }
   },
   "outputs": [],
   "source": [
    "\n",
    "ef = EfficientFrontier(ret_bl, S_bl, weight_bounds=(-1,1))\n",
    "# ef.add_objective(objective_functions.L2_reg)\n",
    "ef.min_volatility()\n",
    "weights = ef.clean_weights()\n",
    "ef.portfolio_performance(verbose=True)\n",
    "weights"
   ]
  },
  {
   "cell_type": "code",
   "execution_count": 469,
   "metadata": {
    "pycharm": {
     "name": "#%%\n"
    }
   },
   "outputs": [
    {
     "name": "stdout",
     "output_type": "stream",
     "text": [
      "Expected annual return: 14.6%\n",
      "Annual volatility: 39.1%\n",
      "Sharpe Ratio: 0.32\n"
     ]
    },
    {
     "data": {
      "text/plain": [
       "OrderedDict([('AAPL', 0.14539),\n",
       "             ('AMZN', 0.38598),\n",
       "             ('DDOG', 0.09566),\n",
       "             ('JKS', 0.03156),\n",
       "             ('MSFT', 0.19057),\n",
       "             ('NIO', 0.0266),\n",
       "             ('PTON', 0.07678),\n",
       "             ('REGI', 0.02053),\n",
       "             ('RUN', -0.01606),\n",
       "             ('SE', 0.04126),\n",
       "             ('SPWR', -0.05528),\n",
       "             ('SQ', -0.12903),\n",
       "             ('TSLA', -0.06942),\n",
       "             ('TWLO', 0.03648),\n",
       "             ('VSLR', 0.10058),\n",
       "             ('ZM', 0.11841)])"
      ]
     },
     "execution_count": 469,
     "metadata": {},
     "output_type": "execute_result"
    }
   ],
   "source": [
    "\n",
    "ef = EfficientFrontier(ret_bl, S_bl, weight_bounds=(-1,1))\n",
    "# ef.add_objective(objective_functions.L2_reg)\n",
    "ef.min_volatility()\n",
    "weights = ef.clean_weights()\n",
    "ef.portfolio_performance(verbose=True)\n",
    "weights"
   ]
  },
  {
   "cell_type": "code",
   "execution_count": 470,
   "metadata": {},
   "outputs": [
    {
     "name": "stdout",
     "output_type": "stream",
     "text": [
      "Expected annual return: 14.6%\n",
      "Annual volatility: 39.1%\n",
      "Sharpe Ratio: 0.32\n"
     ]
    },
    {
     "data": {
      "text/plain": [
       "OrderedDict([('AAPL', 0.14539),\n",
       "             ('AMZN', 0.38598),\n",
       "             ('DDOG', 0.09566),\n",
       "             ('JKS', 0.03156),\n",
       "             ('MSFT', 0.19057),\n",
       "             ('NIO', 0.0266),\n",
       "             ('PTON', 0.07678),\n",
       "             ('REGI', 0.02053),\n",
       "             ('RUN', -0.01606),\n",
       "             ('SE', 0.04126),\n",
       "             ('SPWR', -0.05528),\n",
       "             ('SQ', -0.12903),\n",
       "             ('TSLA', -0.06942),\n",
       "             ('TWLO', 0.03648),\n",
       "             ('VSLR', 0.10058),\n",
       "             ('ZM', 0.11841)])"
      ]
     },
     "execution_count": 470,
     "metadata": {},
     "output_type": "execute_result"
    }
   ],
   "source": [
    "\n",
    "ef = EfficientFrontier(ret_bl, S_bl, weight_bounds=(-1,1))\n",
    "# ef.add_objective(objective_functions.L2_reg)\n",
    "ef.min_volatility()\n",
    "weights = ef.clean_weights()\n",
    "ef.portfolio_performance(verbose=True)\n",
    "weights"
   ]
  }
 ],
 "metadata": {
  "kernelspec": {
   "display_name": "Python 3",
   "language": "python",
   "name": "python3"
  },
  "language_info": {
   "codemirror_mode": {
    "name": "ipython",
    "version": 3
   },
   "file_extension": ".py",
   "mimetype": "text/x-python",
   "name": "python",
   "nbconvert_exporter": "python",
   "pygments_lexer": "ipython3",
   "version": "3.8.5"
  }
 },
 "nbformat": 4,
 "nbformat_minor": 1
}
