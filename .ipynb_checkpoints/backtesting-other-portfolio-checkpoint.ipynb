{
 "cells": [
  {
   "cell_type": "code",
   "execution_count": 1,
   "metadata": {},
   "outputs": [],
   "source": [
    "from datetime import datetime, timedelta\n",
    "\n",
    "from stock_data_repo import StockDataRepo\n",
    "from backtest import Backtester, BacktestResult\n",
    "from strategies import MinVarianceAuxiliaryData, min_variance_portfolio\n",
    "import plotly.express as px"
   ]
  },
  {
   "cell_type": "code",
   "execution_count": 2,
   "metadata": {},
   "outputs": [],
   "source": [
    "import pandas as pd\n",
    "import matplotlib.pylab as plt"
   ]
  },
  {
   "cell_type": "code",
   "execution_count": 3,
   "metadata": {},
   "outputs": [],
   "source": [
    "analysis_dir = \"./returns_analysis/\"\n",
    "\n",
    "from os import listdir\n",
    "from os.path import isfile, join\n",
    "onlyfiles = [f for f in listdir(analysis_dir) if isfile(join(analysis_dir, f))]"
   ]
  },
  {
   "cell_type": "code",
   "execution_count": null,
   "metadata": {},
   "outputs": [],
   "source": [
    "alpha_series = {}\n",
    "factor_loading_series = {}\n",
    "for alpha_file in [f for f in onlyfiles if f.endswith(\"returns.csv\")]:\n",
    "    ticker = alpha_file.replace(\"_alpha_returns.csv\", \"\")\n",
    "    alpha_series[ticker] = pd.read_csv(join(analysis_dir, alpha_file)).set_index(\"Date\")\n",
    "    factor_loading_series[ticker] = pd.read_csv(join(analysis_dir, ticker + \"_factor_loadings.csv\")).set_index(\"Date\")\n",
    "alpha_df = pd.concat(alpha_series, axis=1)\n",
    "alpha_df.columns = alpha_df.columns.droplevel(1)\n",
    "alpha_df = alpha_df.sort_index()\n"
   ]
  },
  {
   "cell_type": "code",
   "execution_count": null,
   "metadata": {},
   "outputs": [],
   "source": [
    "sliced_alpha = alpha_df[\"2020-08-15\":]\n",
    "#alpha_median = (1+sliced_alpha).median()-1\n",
    "alpha_median = ((sliced_alpha>0).astype(float) - (sliced_alpha<0).astype(float)).sum()\n",
    "alpha_var = sliced_alpha.var()"
   ]
  },
  {
   "cell_type": "code",
   "execution_count": null,
   "metadata": {},
   "outputs": [],
   "source": [
    "alpha_median_var = pd.DataFrame([alpha_var.rename('var'), alpha_median.rename('median')]).T"
   ]
  },
  {
   "cell_type": "code",
   "execution_count": null,
   "metadata": {},
   "outputs": [],
   "source": [
    "px.scatter(alpha_median_var.reset_index(), x=\"median\", y=\"var\", text=\"index\", width=1000, height=800,\n",
    "          log_y=True)"
   ]
  },
  {
   "cell_type": "code",
   "execution_count": null,
   "metadata": {},
   "outputs": [],
   "source": [
    "sliced = alpha_median_var[alpha_median_var['median'] > 20]\n",
    "sliced = sliced[sliced['var'] < .001]\n",
    "sliced.index.values"
   ]
  },
  {
   "cell_type": "code",
   "execution_count": null,
   "metadata": {
    "scrolled": false
   },
   "outputs": [],
   "source": [
    "\n",
    "from plotly.subplots import make_subplots\n",
    "import plotly.graph_objects as go\n",
    "\n",
    "data = alpha_df['2018-06-15':]\n",
    "# data = data[sliced.index.values]\n",
    "ticker = [\n",
    "    \"CQQQ\"\n",
    "][0]\n",
    "data = data[[\n",
    "    ticker\n",
    "            ]]\n",
    "sorted_tickers = sorted(data.columns)\n",
    "fig = make_subplots(rows=data.columns.size, cols=1, shared_xaxes=True,\n",
    "                   subplot_titles=sorted_tickers)\n",
    "\n",
    "for i, ticker in enumerate(sorted_tickers):\n",
    "    chart_idx = i + 1\n",
    "    fig.add_trace(go.Scatter(x=data.index, y=(1+data[ticker]).cumprod()-1, fill='tozeroy'), row=chart_idx, col=1)\n",
    "    \n",
    "\n",
    "fig.update_layout(\n",
    "    autosize=False,\n",
    "    width=1000,\n",
    "    height=data.shape[1]*400)\n",
    "fig.show()\n",
    "\n",
    "from backtest import forecast \n",
    "\n",
    "y = (1+data[ticker]).cumprod()\n",
    "f = forecast(y)\n",
    "\n",
    "f.prophet_instance.plot(f.raw_forecast)"
   ]
  },
  {
   "cell_type": "code",
   "execution_count": null,
   "metadata": {},
   "outputs": [],
   "source": [
    "px.line(factor_loading_series[\"ZM\"])"
   ]
  }
 ],
 "metadata": {
  "kernelspec": {
   "display_name": "Python 3",
   "language": "python",
   "name": "python3"
  },
  "language_info": {
   "codemirror_mode": {
    "name": "ipython",
    "version": 3
   },
   "file_extension": ".py",
   "mimetype": "text/x-python",
   "name": "python",
   "nbconvert_exporter": "python",
   "pygments_lexer": "ipython3",
   "version": "3.8.5"
  }
 },
 "nbformat": 4,
 "nbformat_minor": 4
}
